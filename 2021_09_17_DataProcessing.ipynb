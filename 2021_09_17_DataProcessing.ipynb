{
  "nbformat": 4,
  "nbformat_minor": 0,
  "metadata": {
    "colab": {
      "name": "2021-09-17 DataProcessing.ipynb",
      "provenance": [],
      "collapsed_sections": [],
      "authorship_tag": "ABX9TyNsGzM/QEsXfd956PwkVjt2",
      "include_colab_link": true
    },
    "kernelspec": {
      "name": "python3",
      "display_name": "Python 3"
    },
    "language_info": {
      "name": "python"
    }
  },
  "cells": [
    {
      "cell_type": "markdown",
      "metadata": {
        "id": "view-in-github",
        "colab_type": "text"
      },
      "source": [
        "<a href=\"https://colab.research.google.com/github/ParkHyunsu1110/Machine-Learning/blob/main/2021_09_17_DataProcessing.ipynb\" target=\"_parent\"><img src=\"https://colab.research.google.com/assets/colab-badge.svg\" alt=\"Open In Colab\"/></a>"
      ]
    },
    {
      "cell_type": "markdown",
      "metadata": {
        "id": "erj4neuPatal"
      },
      "source": [
        "Handling of Missing Data"
      ]
    },
    {
      "cell_type": "code",
      "metadata": {
        "id": "jcYhDSv9W4Mn"
      },
      "source": [
        "import numpy as np # used for handling numbers\n",
        "import pandas as pd #used for handling  the dataset"
      ],
      "execution_count": null,
      "outputs": []
    },
    {
      "cell_type": "code",
      "metadata": {
        "id": "Qm5Fg8LXXzBa"
      },
      "source": [
        "from sklearn.impute import SimpleImputer # used for handling missing data\n",
        "from sklearn.preprocessing import LabelEncoder # used for encoding categorical data\n",
        "from sklearn.model_selection import train_test_split # used for splitting training and testing data\n",
        "from sklearn.preprocessing import StandardScaler # used for feature scaling"
      ],
      "execution_count": null,
      "outputs": []
    },
    {
      "cell_type": "code",
      "metadata": {
        "id": "1Kfe1pTDX2JK"
      },
      "source": [
        "dataset = pd.read_csv('DataPreprocessing.csv') # to import the dataset into a variable\n",
        "#splititing the attributes innto independent and dependent attributes\n",
        "X = dataset.iloc[:, :-1].values #attributes to determine dependent variable / Class\n",
        "Y = dataset.iloc[:, -1].values # dependent variable / Class"
      ],
      "execution_count": null,
      "outputs": []
    },
    {
      "cell_type": "code",
      "metadata": {
        "colab": {
          "base_uri": "https://localhost:8080/"
        },
        "id": "hjcPD8AvbamP",
        "outputId": "e69cb908-fba6-4712-d369-0e2c46b63c50"
      },
      "source": [
        "X"
      ],
      "execution_count": null,
      "outputs": [
        {
          "output_type": "execute_result",
          "data": {
            "text/plain": [
              "array([['India', 49.0, 86400.0],\n",
              "       ['Brazil', 32.0, 57600.0],\n",
              "       ['USA', 35.0, 64800.0],\n",
              "       ['Brazil', 43.0, 73200.0],\n",
              "       ['USA', 45.0, nan],\n",
              "       ['India', 40.0, 69600.0],\n",
              "       ['Brazil', nan, 62400.0],\n",
              "       ['India', 53.0, 94800.0],\n",
              "       ['USA', 55.0, 99600.0],\n",
              "       ['India', 42.0, 80400.0]], dtype=object)"
            ]
          },
          "metadata": {},
          "execution_count": 15
        }
      ]
    },
    {
      "cell_type": "code",
      "metadata": {
        "id": "rcpsk9pXY7gB"
      },
      "source": [
        "imputer = SimpleImputer(missing_values=np.nan, strategy='mean')\n",
        "imputer = imputer.fit(X[:, 1:])\n",
        "X[:, 1:] = imputer.transform(X[:, 1:])"
      ],
      "execution_count": null,
      "outputs": []
    },
    {
      "cell_type": "code",
      "metadata": {
        "colab": {
          "base_uri": "https://localhost:8080/"
        },
        "id": "A8Y7q-z4Y8p_",
        "outputId": "3edc2ac9-3369-4042-a2a9-95302a5f5055"
      },
      "source": [
        "X[:, 1:]"
      ],
      "execution_count": null,
      "outputs": [
        {
          "output_type": "execute_result",
          "data": {
            "text/plain": [
              "array([[49.0, 86400.0],\n",
              "       [32.0, 57600.0],\n",
              "       [35.0, 64800.0],\n",
              "       [43.0, 73200.0],\n",
              "       [45.0, 76533.33333333333],\n",
              "       [40.0, 69600.0],\n",
              "       [43.77777777777778, 62400.0],\n",
              "       [53.0, 94800.0],\n",
              "       [55.0, 99600.0],\n",
              "       [42.0, 80400.0]], dtype=object)"
            ]
          },
          "metadata": {},
          "execution_count": 11
        }
      ]
    },
    {
      "cell_type": "markdown",
      "metadata": {
        "id": "dk4cj-oVak3f"
      },
      "source": [
        "Handling of Categorical Data"
      ]
    },
    {
      "cell_type": "code",
      "metadata": {
        "id": "umxRle0WbAIL"
      },
      "source": [
        "from sklearn.preprocessing import LabelEncoder\n",
        "labelencoder_X = LabelEncoder()\n",
        "X[:, 0] = labelencoder_X.fit_transform(X[:, 0])"
      ],
      "execution_count": null,
      "outputs": []
    },
    {
      "cell_type": "code",
      "metadata": {
        "colab": {
          "base_uri": "https://localhost:8080/"
        },
        "id": "-pM9mzUhbUOi",
        "outputId": "e5a18a86-5ee1-4c29-da51-71545f6f52fa"
      },
      "source": [
        "X"
      ],
      "execution_count": null,
      "outputs": [
        {
          "output_type": "execute_result",
          "data": {
            "text/plain": [
              "array([[1, 49.0, 86400.0],\n",
              "       [0, 32.0, 57600.0],\n",
              "       [2, 35.0, 64800.0],\n",
              "       [0, 43.0, 73200.0],\n",
              "       [2, 45.0, nan],\n",
              "       [1, 40.0, 69600.0],\n",
              "       [0, nan, 62400.0],\n",
              "       [1, 53.0, 94800.0],\n",
              "       [2, 55.0, 99600.0],\n",
              "       [1, 42.0, 80400.0]], dtype=object)"
            ]
          },
          "metadata": {},
          "execution_count": 22
        }
      ]
    },
    {
      "cell_type": "markdown",
      "metadata": {
        "id": "oOG-JZx3bo43"
      },
      "source": [
        "Feature Scaling"
      ]
    },
    {
      "cell_type": "code",
      "metadata": {
        "colab": {
          "base_uri": "https://localhost:8080/"
        },
        "id": "dLdarkswbmc7",
        "outputId": "4e6fe417-7ceb-4617-f108-4802d6c02344"
      },
      "source": [
        "from sklearn.preprocessing import MinMaxScaler\n",
        "minmax_scaler = MinMaxScaler()\n",
        "X = minmax_scaler.fit_transform(X)\n",
        "print(X)"
      ],
      "execution_count": null,
      "outputs": [
        {
          "output_type": "stream",
          "name": "stdout",
          "text": [
            "[[0.5        0.73913043 0.68571429]\n",
            " [0.         0.         0.        ]\n",
            " [1.         0.13043478 0.17142857]\n",
            " [0.         0.47826087 0.37142857]\n",
            " [1.         0.56521739        nan]\n",
            " [0.5        0.34782609 0.28571429]\n",
            " [0.                nan 0.11428571]\n",
            " [0.5        0.91304348 0.88571429]\n",
            " [1.         1.         1.        ]\n",
            " [0.5        0.43478261 0.54285714]]\n"
          ]
        }
      ]
    },
    {
      "cell_type": "code",
      "metadata": {
        "id": "Sqd2lEO6crxQ"
      },
      "source": [
        ""
      ],
      "execution_count": null,
      "outputs": []
    }
  ]
}